{
 "cells": [
  {
   "cell_type": "markdown",
   "metadata": {},
   "source": [
    "# Modify metadata in iRODS - split out date and time for easier search"
   ]
  },
  {
   "cell_type": "markdown",
   "metadata": {},
   "source": [
    "## Set up"
   ]
  },
  {
   "cell_type": "code",
   "execution_count": null,
   "metadata": {},
   "outputs": [],
   "source": [
    "from irods.session import iRODSSession\n",
    "\n",
    "cred_path = \"D:/sbranchett/My Documents/Python Scripts/iRods_credentials.txt\" #path to file containing iRODS credentials\n",
    "irods_home = \"/tempZone/home/scottc/ProRail_iRODS\" #iRODS path to start from"
   ]
  },
  {
   "cell_type": "markdown",
   "metadata": {},
   "source": [
    "## Get an iRODS session"
   ]
  },
  {
   "cell_type": "code",
   "execution_count": null,
   "metadata": {},
   "outputs": [],
   "source": [
    "creds = [line.rstrip('\\n') for line in open(cred_path, \"r\")]\n",
    "\n",
    "with iRODSSession(host=creds[0], port=creds[1], user=creds[2], password=creds[3], zone=creds[4], \\\n",
    "                  client_server_negotiation = \"request_server_negotiation\", client_server_policy = \"CS_NEG_REQUIRE\", \\\n",
    "                  encryption_algorithm = \"AES-256-CBC\", encryption_key_size = 32, encryption_num_hash_rounds = 16, \\\n",
    "                  encryption_salt_size = 8) as session:\n",
    "    print ('Got A Session', session)\n",
    "    pass\n",
    "\n",
    "coll = session.collections.get(irods_home)"
   ]
  },
  {
   "cell_type": "markdown",
   "metadata": {},
   "source": [
    "## Loop over collections"
   ]
  },
  {
   "cell_type": "code",
   "execution_count": null,
   "metadata": {},
   "outputs": [],
   "source": [
    "for col in coll.subcollections:\n",
    "    print(col.name)\n",
    "    for item in col.metadata.items():\n",
    "        if item.name == \"collection_stamp\": # split out date and time for collection\n",
    "            collection_time = item.value[11:]\n",
    "            collection_date = item.value[:10]\n",
    "            try:\n",
    "                col.metadata.add(\"collection_time\",collection_time)\n",
    "            except:\n",
    "                print(\"could not add metadata collection_time \"+collection_time)\n",
    "            try:\n",
    "                col.metadata.add(\"collection_date\",collection_date)\n",
    "            except:\n",
    "                print(\"could not add metadata collection_date \"+collection_date)\n",
    "            try:\n",
    "                col.metadata.remove(item.name, item.value, item.units)\n",
    "            except:\n",
    "                print(\"could not delete metadata \"+str(col.name)+\" \"+str(item.name)+\" \"+str(item.value)+\" \"+str(item.units))\n",
    "        elif item.name == \"event_time_stamp\": # split out date and time for event\n",
    "            event_time = item.value[11:]\n",
    "            event_date = item.value[:10]\n",
    "            try:\n",
    "                col.metadata.add(\"event_time\",event_time)\n",
    "            except:\n",
    "                print(\"could not add metadata event_time \"+event_time)\n",
    "            try:\n",
    "                col.metadata.add(\"event_date\",event_date)\n",
    "            except:\n",
    "                print(\"could not add metadata event_date \"+event_date)\n",
    "            try:\n",
    "                col.metadata.remove(item.name, item.value, item.units)\n",
    "            except:\n",
    "                print(\"could not delete metadata \"+str(col.name)+\" \"+str(item.name)+\" \"+str(item.value)+\" \"+str(item.units))\n",
    "    for obj in col.data_objects: # add a flag for presence of Webcam dat\n",
    "        if \"Webcam\" in obj.name and \".avi\" in obj.name:\n",
    "            try:\n",
    "                col.metadata.add(\"webcam_movie\",\"yes\")\n",
    "            except:\n",
    "                print(\"could not add metadata webcam_movie yes\")"
   ]
  }
 ],
 "metadata": {
  "kernelspec": {
   "display_name": "Python 2",
   "language": "python",
   "name": "python2"
  },
  "language_info": {
   "codemirror_mode": {
    "name": "ipython",
    "version": 2
   },
   "file_extension": ".py",
   "mimetype": "text/x-python",
   "name": "python",
   "nbconvert_exporter": "python",
   "pygments_lexer": "ipython2",
   "version": "2.7.14"
  }
 },
 "nbformat": 4,
 "nbformat_minor": 2
}
