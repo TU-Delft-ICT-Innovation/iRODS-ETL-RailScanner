{
 "cells": [
  {
   "cell_type": "markdown",
   "metadata": {},
   "source": [
    "# Step 1. Inventorize the Files"
   ]
  },
  {
   "cell_type": "markdown",
   "metadata": {},
   "source": [
    "The first 4 steps in this notebook are the same as for stage 01 (modifications commented out with #SEB)\n",
    "\n",
    "To run this notebook, first install ffmpeg using:\n",
    "\n",
    "conda install -c menpo ffmpeg\n",
    "\n",
    "WARNING: ffmpeg has LGPL license"
   ]
  },
  {
   "cell_type": "code",
   "execution_count": null,
   "metadata": {},
   "outputs": [],
   "source": [
    "import os # Import the os module, for the os.walk function\n",
    "import re\n",
    "import datetime\n",
    "import subprocess\n",
    "from PIL import Image\n",
    "\n",
    "size = 400, 400\n",
    "\n",
    "rootDir = 'O:/ProRail'       # Set the directory you want to start from\n",
    "destDir = 'Y:/susanb/ProRail_iRODS' # Set the iRODS directory you want to write to\n",
    "\n",
    "full_file_list = []\n",
    "\n",
    "for dirName, subdirList, fileList in os.walk(rootDir):\n",
    "    #print('Found directory: %s' % dirName)\n",
    "    for fname in fileList:\n",
    "        #print('\\t%s' % fname)\n",
    "        if (\"ProRail\" in dirName):\n",
    "            full_file = dirName+\"/\"+fname\n",
    "            full_file_list.append(full_file)"
   ]
  },
  {
   "cell_type": "code",
   "execution_count": null,
   "metadata": {},
   "outputs": [],
   "source": [
    "#print(full_file_list)"
   ]
  },
  {
   "cell_type": "markdown",
   "metadata": {},
   "source": [
    "# Step 2. Sort by Color, Infrared and Frame Metadata"
   ]
  },
  {
   "cell_type": "code",
   "execution_count": null,
   "metadata": {},
   "outputs": [],
   "source": [
    "color_list = []\n",
    "infra_list = []\n",
    "frame_metadata_list = []\n",
    "ext_list = []\n",
    "stub_list = []\n",
    "\n",
    "for file in full_file_list:\n",
    " \n",
    "    stub, ext = file.split(\".\")\n",
    "    #if stub not in stub_list:\n",
    "        #stub_list.append(stub)\n",
    "    #ext_list.append(ext)\n",
    "    \n",
    "    if re.compile(\"C_DEV\").search(stub):\n",
    "        color_list.append(file)\n",
    "    if re.compile(\"NIR_DEV\").search(stub):\n",
    "        infra_list.append(file)\n",
    "    if re.compile(\"txt\").search(ext):\n",
    "        if re.compile(\"timestamp\").search(stub):\n",
    "            next\n",
    "        else:\n",
    "            frame_metadata_list.append(file)"
   ]
  },
  {
   "cell_type": "code",
   "execution_count": null,
   "metadata": {},
   "outputs": [],
   "source": [
    "#print(frame_metadata_list)"
   ]
  },
  {
   "cell_type": "code",
   "execution_count": null,
   "metadata": {},
   "outputs": [],
   "source": [
    "#print(infra_list)"
   ]
  },
  {
   "cell_type": "code",
   "execution_count": null,
   "metadata": {},
   "outputs": [],
   "source": [
    "#print(color_list)"
   ]
  },
  {
   "cell_type": "markdown",
   "metadata": {},
   "source": [
    "# Step 3. Expand out the Frames"
   ]
  },
  {
   "cell_type": "code",
   "execution_count": null,
   "metadata": {},
   "outputs": [],
   "source": [
    "# Normally we would write out the frames but there is not enough room"
   ]
  },
  {
   "cell_type": "markdown",
   "metadata": {},
   "source": [
    "# Step 4. Assign Event IDs and Create Collections"
   ]
  },
  {
   "cell_type": "code",
   "execution_count": null,
   "metadata": {},
   "outputs": [],
   "source": [
    "timestamp_list = []\n",
    "\n",
    "# This saves the timestamp for each filename, saving us work \n",
    "colorfile_stamp = {}\n",
    "infrafile_stamp = {}\n",
    "\n",
    "# create the color stamps and add to list\n",
    "for file in color_list:\n",
    "    drive, root, src = file.split(\"/\")\n",
    "    year, month, day, hour, minute, second, color, dev, stamp = src.split(\"_\")\n",
    "    d = datetime.datetime(int(year), int(month), int(day), int(hour), int(minute), int(second))\n",
    "    timestamp_list.append(d)\n",
    "    colorfile_stamp[src]=d\n",
    "\n",
    "# create the infra stamps and add to list\n",
    "for file in infra_list:\n",
    "    drive, root, src = file.split(\"/\")\n",
    "    year, month, day, hour, minute, second, color, dev, stamp = src.split(\"_\")\n",
    "    d = datetime.datetime(int(year), int(month), int(day), int(hour), int(minute), int(second))\n",
    "    timestamp_list.append(d)\n",
    "    infrafile_stamp[src]=d\n",
    "    #print(src,d)\n",
    "\n",
    "#sort\n",
    "timestamp_list.sort()\n",
    "\n",
    "# save this for collection identification\n",
    "collection_stamp = timestamp_list[0]"
   ]
  },
  {
   "cell_type": "code",
   "execution_count": null,
   "metadata": {},
   "outputs": [],
   "source": [
    "#print(timestamp_list)"
   ]
  },
  {
   "cell_type": "code",
   "execution_count": null,
   "metadata": {},
   "outputs": [],
   "source": [
    "# in future we will get this out of the iRODS database\n",
    "# SEB need to work on this\n",
    "init_event = 0\n",
    "\n",
    "#SEB if not os.path.exists(destDir):\n",
    "#SEB     os.makedirs(destDir)\n",
    "#SEB \n",
    "#SEB # Create a collection for the the json files\n",
    "#SEB collectionDir = destDir+\"/\"+str(collection_stamp.strftime(\"%Y%m%d%H%M%S\"))+\"_collection_initial_event_\"+str(init_event+1)\n",
    "#SEB if not os.path.exists(collectionDir):\n",
    "#SEB     os.makedirs(collectionDir)\n",
    "    \n",
    "# This is a fixed delta for sensitivity purposes\n",
    "fixed_delta = datetime.timedelta(seconds=10)\n",
    "\n",
    "# We need to hash the timestamps with their associated events\n",
    "timestamp_event_dict = {}\n",
    "# We also need the first recorded timestamp on that event\n",
    "event_initiate = {}\n",
    "event_collection = {}\n",
    "\n",
    "# This assigns common event numbers\n",
    "event_no = init_event\n",
    "event_stamp = datetime.datetime(1900, 1, 1, 0, 0, 0) # initialise\n",
    "for n,stamp in enumerate(timestamp_list):\n",
    "    delta = stamp-event_stamp\n",
    "\n",
    "    if (delta > fixed_delta ):\n",
    "        event_stamp = stamp\n",
    "        event_no += 1\n",
    "        #print(\"New event!\", str(event_no))\n",
    "        #print(stamp)\n",
    "        newDir = destDir+\"/\"+str(stamp.strftime(\"%Y%m%d%H%M%S\"))+\"_event_\"+str(event_no)\n",
    "        event_collection[event_no]=newDir\n",
    "#SEB         if not os.path.exists(newDir):\n",
    "#SEB             os.makedirs(newDir)\n",
    "        timestamp_event_dict[stamp]=event_no\n",
    "        event_initiate[event_no]=stamp\n",
    "    else:\n",
    "        #print(stamp)\n",
    "        timestamp_event_dict[stamp]=event_no\n",
    "    "
   ]
  },
  {
   "cell_type": "markdown",
   "metadata": {},
   "source": [
    "# Step 5. Extract Sample Frames"
   ]
  },
  {
   "cell_type": "code",
   "execution_count": null,
   "metadata": {},
   "outputs": [],
   "source": [
    "matchstamp = re.compile('...._.._.._.._.._..')\n",
    "if os.path.exists(\"tempfile.jpg\"): os.remove(\"tempfile.jpg\")\n",
    "for file in full_file_list:\n",
    "\n",
    "    startloc = re.search(matchstamp, file)\n",
    "    stub, ext = file.split(\".\")\n",
    "    if startloc and ext == \"avi\": # file has a date stamp and is an .avi movie\n",
    "    \n",
    "        stamp = file[startloc.span()[0]:startloc.span()[1]]\n",
    "        year, month, day, hour, minute, second = stamp.split(\"_\")\n",
    "        d = datetime.datetime(int(year), int(month), int(day), int(hour), int(minute), int(second))\n",
    "        \n",
    "        if d in timestamp_event_dict.keys(): #ignore files if their timestamp is not in the timestamplist\n",
    "            event_id=timestamp_event_dict[d]\n",
    "            drive, root, src = file.split(\"/\")\n",
    "            base, ext = src.split(\".\")\n",
    "            avi_file = event_collection[event_id]+\"/\"+base+\".avi\" # for check that .avi already in iRODS\n",
    "            jpg_file = event_collection[event_id]+\"/\"+base+\".jpg\"\n",
    "            if os.path.exists(avi_file) and not os.path.exists(jpg_file):\n",
    "                try:\n",
    "                    #print(\"from file \"+file+\" create \"+event_collection[event_id]+\"/\"+base+\".jpg\")\n",
    "                    frame_time = 0.5*float(subprocess.check_output(['ffprobe', '-i', file, '-show_entries', \\\n",
    "                                                                    'format=duration'])[19:28])\n",
    "                    calltext = \"ffmpeg -ss \"+str(datetime.timedelta(seconds=frame_time))+\" -i \"+file+\" -frames:v 1 tempfile.jpg\"\n",
    "                    print(\"calltext is \"+calltext)\n",
    "                    subprocess.call(calltext, shell=True)\n",
    "                    if os.path.exists(\"tempfile.jpg\"):\n",
    "                        im = Image.open(\"tempfile.jpg\")\n",
    "                        im.thumbnail(size)\n",
    "                        im.save(jpg_file, \"JPEG\")\n",
    "                        im.close()\n",
    "                        os.remove(\"tempfile.jpg\")\n",
    "                except:\n",
    "                    print(\"Problem creating thumbnail for \"+file)"
   ]
  }
 ],
 "metadata": {
  "kernelspec": {
   "display_name": "Python 3",
   "language": "python",
   "name": "python3"
  },
  "language_info": {
   "codemirror_mode": {
    "name": "ipython",
    "version": 3
   },
   "file_extension": ".py",
   "mimetype": "text/x-python",
   "name": "python",
   "nbconvert_exporter": "python",
   "pygments_lexer": "ipython3",
   "version": "3.6.5"
  }
 },
 "nbformat": 4,
 "nbformat_minor": 2
}
